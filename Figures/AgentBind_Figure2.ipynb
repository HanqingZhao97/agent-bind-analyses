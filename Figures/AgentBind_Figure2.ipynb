{
 "cells": [
  {
   "cell_type": "code",
   "execution_count": 2,
   "metadata": {
    "collapsed": false
   },
   "outputs": [
    {
     "name": "stdout",
     "output_type": "stream",
     "text": [
      "Populating the interactive namespace from numpy and matplotlib\n"
     ]
    }
   ],
   "source": [
    "%pylab inline\n",
    "\n",
    "import matplotlib\n",
    "matplotlib.rcParams['pdf.fonttype'] = 42\n",
    "matplotlib.rcParams['ps.fonttype'] = 42\n",
    "\n",
    "import pandas as pd\n",
    "from sklearn.metrics import roc_curve\n",
    "import seaborn as sns"
   ]
  },
  {
   "cell_type": "markdown",
   "metadata": {},
   "source": [
    "# Figure 2A: Simulation signal to noise"
   ]
  },
  {
   "cell_type": "code",
   "execution_count": 9,
   "metadata": {
    "collapsed": false
   },
   "outputs": [],
   "source": [
    "# GCAM data\n",
    "gcfile_exp = \"/storage/pandaman/project/AgentBind-Simulation/results/gcam/c/simulated-TAL1/sn_ratio_list.txt\"\n",
    "gcam_sn_exp = [float(item) for item in open(gcfile_exp, \"r\").readlines()]\n",
    "gcfile_ctrl = \"/storage/pandaman/project/AgentBind-Simulation/results/gcam/c/simulated-TAL1/sn_ratio_control_list.txt\"\n",
    "gcam_sn_ctrl = [float(item) for item in open(gcfile_ctrl, \"r\").readlines()]\n",
    "\n",
    "# SMAP\n",
    "smfile_exp = \"/storage/pandaman/project/AgentBind-Simulation/results/reg/c/simulated-TAL1/sn_ratio_list.txt\"\n",
    "sm_sn_exp = [float(item) for item in open(smfile_exp, \"r\").readlines()]\n",
    "smfile_ctrl = \"/storage/pandaman/project/AgentBind-Simulation/results/reg/c/simulated-TAL1/sn_ratio_control_list.txt\"\n",
    "sm_sn_ctrl = [float(item) for item in open(smfile_ctrl, \"r\").readlines()]\n",
    "\n",
    "# MUT\n",
    "mutfile_exp = \"/storage/pandaman/project/AgentBind-Simulation/results/prtb/c/simulated-TAL1/sn_ratio_list.txt\"\n",
    "mut_sn_exp = [float(item) for item in open(mutfile_exp, \"r\").readlines()]\n",
    "mutfile_ctrl = \"/storage/pandaman/project/AgentBind-Simulation/results/prtb/c/simulated-TAL1/sn_ratio_control_list.txt\"\n",
    "mut_sn_ctrl = [float(item) for item in open(mutfile_ctrl, \"r\").readlines()]"
   ]
  },
  {
   "cell_type": "code",
   "execution_count": 66,
   "metadata": {
    "collapsed": false
   },
   "outputs": [
    {
     "data": {
      "image/png": "[encoded data removed]",
      "text/plain": [
       "<Figure size 432x288 with 1 Axes>"
      ]
     },
     "metadata": {
      "needs_background": "light"
     },
     "output_type": "display_data"
    }
   ],
   "source": [
    "sndata = [gcam_sn_exp, gcam_sn_ctrl, sm_sn_exp, sm_sn_ctrl, mut_sn_exp, mut_sn_ctrl]\n",
    "xticklabels = [\"Exp\",\"Ctrl\"]*3\n",
    "fig = plt.figure()\n",
    "ax = fig.add_subplot(111)\n",
    "bp = ax.boxplot(sndata, sym=\"\", patch_artist=True, medianprops={\"color\": \"black\"});\n",
    "\n",
    "# fill with colors\n",
    "colors = [\"gray\"]*6 #[\"darkgreen\",\"darkgreen\",\"darkblue\",\"darkblue\",\"purple\",\"purple\"]\n",
    "for patch, color in zip(bp['boxes'], colors):\n",
    "    patch.set_facecolor(color)\n",
    "\n",
    "ax.spines['right'].set_visible(False)\n",
    "ax.spines['top'].set_visible(False)\n",
    "ax.spines['bottom'].set_visible(False)\n",
    "ax.yaxis.set_ticks_position('left')\n",
    "ax.xaxis.set_ticks_position('bottom')\n",
    "ax.set_ylim(bottom=-10, top=275)\n",
    "ax.set_ylabel(\"Signal to noise ratio\", size=15);\n",
    "ax.set_xticklabels(xticklabels, size=12, rotation=45);\n",
    "fig.savefig(\"sim_eval_methods.pdf\")"
   ]
  },
  {
   "cell_type": "markdown",
   "metadata": {},
   "source": [
    "# Figure 2B: Example simulation"
   ]
  },
  {
   "cell_type": "code",
   "execution_count": 9,
   "metadata": {
    "collapsed": false
   },
   "outputs": [
    {
     "data": {
      "image/png": "[encoded data removed]",
      "text/plain": [
       "<Figure size 720x504 with 3 Axes>"
      ]
     },
     "metadata": {
      "needs_background": "light"
     },
     "output_type": "display_data"
    }
   ],
   "source": [
    "exnum = 718\n",
    "gcfile_ex = \"/storage/pandaman/project/AgentBind-Simulation/results/gcam/c/simulated-TAL1/weight_figures/vis-sample-%s.txt\"%exnum\n",
    "gcam = [float(item.strip().split()[1]) for item in open(gcfile_ex, \"r\").readlines()]\n",
    "\n",
    "smfile_ex = \"/storage/pandaman/project/AgentBind-Simulation/results/reg/c/simulated-TAL1/weight_figures/vis-sample-%s.txt\"%exnum\n",
    "sm = [float(item.strip().split()[1]) for item in open(smfile_ex, \"r\").readlines()]\n",
    "\n",
    "mutfile_ex = \"/storage/pandaman/project/AgentBind-Simulation/results/prtb/c/simulated-TAL1/weight_figures/vis-sample-%s.txt\"%exnum\n",
    "mut = [float(item.strip().split()[1]) for item in open(mutfile_ex, \"r\").readlines()]\n",
    "\n",
    "sval = 1\n",
    "color = \"darkblue\"\n",
    "\n",
    "xvals = range(len(gcam))\n",
    "fig = plt.figure()\n",
    "fig.set_size_inches((10,7))\n",
    "ax = fig.add_subplot(311)\n",
    "ax.bar(xvals, gcam, color=color)\n",
    "ax.set_xticks([])\n",
    "#ax.set_yticks(np.arange(-0.05, 0.11, 0.05))\n",
    "ax.axhline(y=0, color=\"gray\", linewidth=0.5)\n",
    "ax.spines['right'].set_visible(False)\n",
    "ax.spines['top'].set_visible(False)\n",
    "ax.spines['bottom'].set_visible(False)\n",
    "\n",
    "ax = fig.add_subplot(312)\n",
    "ax.bar(xvals, sm, color=color)\n",
    "ax.axhline(y=0, color=\"gray\", linewidth=0.5)\n",
    "ax.set_xticks([])\n",
    "#ax.set_yticks(np.arange(-0.05, 0.06, 0.05))\n",
    "ax.spines['right'].set_visible(False)\n",
    "ax.spines['top'].set_visible(False)\n",
    "ax.spines['bottom'].set_visible(False)\n",
    "\n",
    "ax = fig.add_subplot(313)\n",
    "ax.bar(xvals, mut, color=color)\n",
    "#ax.set_yticks(np.arange(0, 0.021, 0.01))\n",
    "ax.set_xticks(np.arange(0, 1001, 100))\n",
    "ax.set_xticklabels(list(np.arange(-500, 1, 100)) + [\"+%s\"%item for item in np.arange(100, 501, 100)])\n",
    "ax.axhline(y=0, color=\"gray\", linewidth=0.5)\n",
    "ax.set_ylim(bottom=-0.002, top=0.015)\n",
    "ax.spines['right'].set_visible(False)\n",
    "ax.spines['top'].set_visible(False)\n",
    "\n",
    "fig.tight_layout()\n",
    "fig.savefig(\"sim_eval_example_%s.pdf\"%exnum)"
   ]
  },
  {
   "cell_type": "code",
   "execution_count": 10,
   "metadata": {
    "collapsed": false
   },
   "outputs": [
    {
     "data": {
      "text/plain": [
       "u'/home/mgymrek/workspace/agent-bind-analyses/Figures'"
      ]
     },
     "execution_count": 10,
     "metadata": {},
     "output_type": "execute_result"
    }
   ],
   "source": [
    "pwd"
   ]
  },
  {
   "cell_type": "markdown",
   "metadata": {},
   "source": [
    "# Figure 2C: Example context score locus"
   ]
  },
  {
   "cell_type": "code",
   "execution_count": null,
   "metadata": {
    "collapsed": false
   },
   "outputs": [],
   "source": [
    "exnum = 20 #1 #20\n",
    "ex_danq_f = \"/storage/pandaman/project/AgentBind-GM12878-DanQ-unfixed-rnn-trans/storage/AgentBind-GM12878-DanQ/results/c/SP1+GM12878/weight_figures/vis-sample-%s.txt\"%exnum\n",
    "ex_ds_f = \"/storage/pandaman/project/AgentBind-GM12878-DeepSEA-unfixed/storage/AgentBind-GM12878-DeepSEA/results/c/SP1+GM12878/weight_figures/vis-sample-%s.txt\"%exnum\n",
    "\n",
    "danq = [float(item.strip().split()[1]) for item in open(ex_danq_f, \"r\").readlines()[1:]]\n",
    "ds = [float(item.strip().split()[1]) for item in open(ex_ds_f, \"r\").readlines()[1:]]\n",
    "\n",
    "sval = 1\n",
    "color = \"darkblue\"\n",
    "\n",
    "xvals = range(len(danq))\n",
    "\n",
    "fig = plt.figure()\n",
    "fig.set_size_inches((6,3))\n",
    "ax = fig.add_subplot(111)\n",
    "ax.bar(xvals, [(item) for item in danq],  color=color);\n",
    "ax.set_xticks([])\n",
    "ax.spines['right'].set_visible(False)\n",
    "ax.spines['top'].set_visible(False)\n",
    "ax.spines['bottom'].set_visible(False)\n",
    "ax.axhline(y=0, color=\"gray\", linewidth=0.5)\n",
    "ax.set_xticklabels(list(np.arange(-500, 1, 100)) + [\"+%s\"%item for item in np.arange(100, 501, 100)])\n",
    "\n",
    "#ax = fig.add_subplot(212)\n",
    "#ax.bar(xvals, [(item) for item in ds], color=color);\n",
    "#ax.set_xticks(np.arange(0, 1001, 100))\n",
    "ax.set_xticklabels(list(np.arange(-500, 1, 100)) + [\"+%s\"%item for item in np.arange(100, 501, 100)])\n",
    "#ax.spines['right'].set_visible(False)\n",
    "#ax.spines['top'].set_visible(False)\n",
    "#ax.axhline(y=0, color=\"gray\", linewidth=0.5)\n",
    "\n",
    "fig.tight_layout()\n",
    "fig.savefig(\"real_eval_example_%s.pdf\"%exnum)\n",
    "\n",
    "# Export IGV score file # chr1:12289432-12290432\n",
    "#startpos = 12289432\n",
    "#f = open(\"scores.bedgraph\", \"w\")\n",
    "#f.write(\"track type=bedGraph name=locusExample\\n\")\n",
    "#for i in range(startpos, startpos+1000):\n",
    "#    f.write(\"chr1\\t%s\\t%s\\t%s\\n\"%(i, i+1, danq[i-startpos]))\n",
    "#f.close()"
   ]
  },
  {
   "cell_type": "markdown",
   "metadata": {},
   "source": [
    "# Figure 2D: Aggregate context scores"
   ]
  },
  {
   "cell_type": "markdown",
   "metadata": {},
   "source": [
    "/storage/pandaman/project/AgentBind-GM12878-DanQ-unfixed-rnn-trans/storage/AgentBind-GM12878-DanQ/results/c/SP1+GM12878/weight_figures/vis-sample-total.txt\n",
    "Figure 4-2:\n",
    "/storage/pandaman/project/AgentBind-GM12878-DanQ-unfixed-rnn-trans/storage/AgentBind-GM12878-DanQ/results/c/ELF1+GM12878/weight_figures/vis-sample-total.txt\n",
    "Figure 4-3:\n",
    "/storage/pandaman/project/AgentBind-GM12878-DanQ-unfixed-rnn-trans/storage/AgentBind-GM12878-DanQ/results/c/CTCF+GM12878/weight_figures/vis-sample-total.txt\n",
    "\n"
   ]
  }
 ],
 "metadata": {
  "kernelspec": {
   "display_name": "Python 3",
   "language": "python",
   "name": "python3"
  },
  "language_info": {
   "codemirror_mode": {
    "name": "ipython",
    "version": 2
   },
   "file_extension": ".py",
   "mimetype": "text/x-python",
   "name": "python",
   "nbconvert_exporter": "python",
   "pygments_lexer": "ipython2",
   "version": "2.7.5"
  }
 },
 "nbformat": 4,
 "nbformat_minor": 2
}
